{
 "cells": [
  {
   "cell_type": "markdown",
   "metadata": {},
   "source": [
    "# Lactose Operon"
   ]
  },
  {
   "cell_type": "code",
   "execution_count": null,
   "metadata": {
    "collapsed": true
   },
   "outputs": [],
   "source": [
    "import phievo\n",
    "from phievo.AnalysisTools import palette\n",
    "from matplotlib import pyplot as plt\n",
    "palette.update_default_colormap(\"tab20c\")"
   ]
  },
  {
   "cell_type": "code",
   "execution_count": null,
   "metadata": {},
   "outputs": [],
   "source": [
    "phievo.download_example_seed(\"lacOperon_pruning\")"
   ]
  },
  {
   "cell_type": "code",
   "execution_count": null,
   "metadata": {},
   "outputs": [],
   "source": [
    "seed = \"lacOperon_pruning\"\n",
    "directory = \"example_lacOperon_pruning\"\n",
    "sim = phievo.AnalysisTools.Simulation(directory)\n",
    "net = sim.seeds[seed].get_best_net(500)\n",
    "res = sim.run_dynamics(net,erase_buffer=True)"
   ]
  },
  {
   "cell_type": "code",
   "execution_count": null,
   "metadata": {
    "collapsed": true
   },
   "outputs": [],
   "source": [
    "def zip_times(t_I):\n",
    "    tt = np.array(t_I)\n",
    "    vec = np.array(tt)[1:]-np.array(tt)[:len(tt)-1]\n",
    "    pos = np.argwhere(np.logical_not(np.isclose(vec,vec[0])))[:,0]\n",
    "    starts = np.append(0,tt[pos+1])\n",
    "    ends = tt[pos]\n",
    "    if len(starts)!=len(ends):\n",
    "        ends = np.append(ends,tt[-1])\n",
    "    assert len(starts)==len(ends)\n",
    "    return zip(starts,ends)"
   ]
  },
  {
   "cell_type": "code",
   "execution_count": null,
   "metadata": {},
   "outputs": [],
   "source": [
    "t_I0 = [t for t,i0 in zip(res['time'],res[0][0][:,0]) if i0]\n",
    "t_I1 = [t for t,i1 in zip(res['time'],res[0][0][:,3]) if i1]\n",
    "for t1,t2 in zip_times(t_I0): \n",
    "    plt.plot([t1,t2],[-.15]*2,color=\"#e6550d\",lw=8,solid_capstyle='round')\n",
    "for t1,t2 in zip_times(t_I1): \n",
    "    plt.plot([t1,t2],[-.25]*2,color=\"#9e9ac8\",lw=8,solid_capstyle='round')\n",
    "# Display of desired Output\n",
    "plt.plot(res['time'],[i0*i1 for i0,i1 in zip(res[0][0][:,0],res[0][0][:,3])]\n",
    "            ,'k',label='desired')\n",
    "# Display of evolved Output\n",
    "plt.plot(res['time'],[i0*i1 for i0,i1 in zip(res[0][0][:,0],res[0][0][:,4])]\n",
    "            ,lw=3,color='#31a354',label='evolved')\n",
    "plt.title('Lactose Operon',fontsize=20)\n",
    "plt.xlabel('time',fontsize=18)\n",
    "plt.xticks([0,50,100,150,200,250],6*[''])\n",
    "plt.ylabel('output',fontsize=18)\n",
    "plt.yticks([-.25,-.15,0,1],[r'$I_1$',r'$I_0$',r'$0.0$',r'$1.0$'],fontsize=16)\n",
    "plt.legend(loc=1,fontsize=16)\n",
    "plt.savefig(\"response_lac_operon.svg\")\n",
    "plt.show()\n"
   ]
  }
 ],
 "metadata": {
  "kernelspec": {
   "display_name": "Python 3",
   "language": "python",
   "name": "python3"
  },
  "language_info": {
   "codemirror_mode": {
    "name": "ipython",
    "version": 3
   },
   "file_extension": ".py",
   "mimetype": "text/x-python",
   "name": "python",
   "nbconvert_exporter": "python",
   "pygments_lexer": "ipython3",
   "version": "3.6.1"
  }
 },
 "nbformat": 4,
 "nbformat_minor": 2
}
