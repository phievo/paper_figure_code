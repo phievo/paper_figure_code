{
 "cells": [
  {
   "cell_type": "code",
   "execution_count": null,
   "metadata": {
    "collapsed": true
   },
   "outputs": [],
   "source": [
    "%matplotlib notebook\n",
    "import phievo\n",
    "from phievo.AnalysisTools import Simulation,palette#,plotly_graph\n",
    "import shelve,os,pickle\n",
    "import matplotlib.pyplot as plt\n",
    "import matplotlib as mpl\n",
    "mpl.rc('text', usetex=True)\n",
    "mpl.rcParams['text.latex.preamble'] = [\n",
    "       r'\\usepackage{siunitx}',   # i need upright \\micro symbols, but you need...\n",
    "       r'\\sisetup{detect-all}',   # ...this to force siunitx to actually use your fonts\n",
    "       r'\\usepackage{helvet}',    # set the normal font here\n",
    "       r'\\usepackage{sansmath}',  # load up the sansmath so that math -> helvet\n",
    "       r'\\sansmath'               # <- tricky! -- gotta actually tell tex to use!\n",
    "]  \n",
    "mpl.rcParams['font.size'] =20\n",
    "import numpy as np\n",
    "palette.update_default_colormap(\"tab20c\")"
   ]
  },
  {
   "cell_type": "markdown",
   "metadata": {},
   "source": [
    "# Plot simulation main results\n",
    "\n",
    "This plots the figured used in the paper (fig1 and fig2) for the followinf simulations:\n",
    " - adaptation\n",
    " - simulation\n",
    " - hox_pareto\n",
    "You need to clear the buffer via `Kernel>Restart & Clear output` before ploting each simulation."
   ]
  },
  {
   "cell_type": "markdown",
   "metadata": {},
   "source": [
    "## Somite"
   ]
  },
  {
   "cell_type": "code",
   "execution_count": null,
   "metadata": {
    "collapsed": true
   },
   "outputs": [],
   "source": [
    "phievo.download_example_seed(\"somite_pruning\")"
   ]
  },
  {
   "cell_type": "code",
   "execution_count": null,
   "metadata": {
    "collapsed": true
   },
   "outputs": [],
   "source": [
    "choose_seed = \"somite_pruning\"\n",
    "directory = \"example_somite_pruning\"\n",
    "sim = Simulation(directory)\n",
    "net = sim.get_best_net(choose_seed,500)\n",
    "net.draw(\"layout_somite_pruning.svg\")\n",
    "sim.run_dynamics(net)\n",
    "fig=plt.figure(1)\n",
    "ax1 = fig.add_subplot(211)\n",
    "ax1.xaxis.set_label_position('top') \n",
    "ax1.xaxis.tick_top()\n",
    "fig_timecourse=sim.Plot_TimeCourse(0,25,lw=3,legend=False,ax=ax1)\n",
    "ax2 = fig.add_subplot(212)\n",
    "sim.Plot_Profile(0,11999,lw=3,legend=False,ax=ax2)\n",
    "fig.savefig(\"profile_timecourse_somite.svg\")"
   ]
  },
  {
   "cell_type": "markdown",
   "metadata": {},
   "source": [
    "## Adaptation"
   ]
  },
  {
   "cell_type": "code",
   "execution_count": null,
   "metadata": {
    "collapsed": true
   },
   "outputs": [],
   "source": [
    "phievo.download_example_seed(\"adaptation_pruning\")"
   ]
  },
  {
   "cell_type": "code",
   "execution_count": null,
   "metadata": {
    "collapsed": true
   },
   "outputs": [],
   "source": [
    "choose_seed = \"adaptation_pruning\"\n",
    "directory = \"example_adaptation_pruning\"\n",
    "sim = Simulation(directory)\n",
    "net = sim.get_best_net(choose_seed,500)\n",
    "net.draw(\"net_adapt.svg\")\n",
    "sim.run_dynamics(net)\n",
    "fig_timecourse=sim.Plot_TimeCourse(0,cell=0,lw=3,legend=False,select_genes=[0,1,2])\n",
    "fig_timecourse.savefig(\"timecourse_adapt.svg\")\n",
    "plt.show()\n"
   ]
  },
  {
   "cell_type": "markdown",
   "metadata": {},
   "source": [
    "## Hox Pareto"
   ]
  },
  {
   "cell_type": "code",
   "execution_count": null,
   "metadata": {
    "collapsed": true
   },
   "outputs": [],
   "source": [
    "phievo.download_example_seed(\"hox_pareto_light\")"
   ]
  },
  {
   "cell_type": "code",
   "execution_count": null,
   "metadata": {
    "collapsed": true
   },
   "outputs": [],
   "source": [
    "choose_seed = \"hox_pareto_light\"\n",
    "directory = \"example_hox_pareto_light\"\n",
    "sim = Simulation(directory)\n",
    "fig = sim.seeds[choose_seed].plot_pareto_fronts([500,1000,2000,4000,8000,16000],xlabel=r\"$F_1$\",ylabel=r\"$F_2$\")\n",
    "fig.savefig(\"StaticHox_fronts.svg\")"
   ]
  },
  {
   "cell_type": "code",
   "execution_count": null,
   "metadata": {
    "collapsed": true
   },
   "outputs": [],
   "source": [
    "net = sim.get_backup_net(choose_seed,12500,10)\n",
    "sim.run_dynamics(net)\n",
    "fig_profile=sim.Plot_Profile(0,2999,lw=3,legend=False)\n",
    "fig_profile.savefig(\"profile_StaticHox.svg\")"
   ]
  },
  {
   "cell_type": "code",
   "execution_count": null,
   "metadata": {
    "collapsed": true
   },
   "outputs": [],
   "source": [
    "fig = net.draw()\n",
    "fig.savefig(\"layout_statichox.svg\")"
   ]
  },
  {
   "cell_type": "code",
   "execution_count": null,
   "metadata": {
    "collapsed": true
   },
   "outputs": [],
   "source": []
  }
 ],
 "metadata": {
  "kernelspec": {
   "display_name": "Python 3",
   "language": "python",
   "name": "python3"
  },
  "language_info": {
   "codemirror_mode": {
    "name": "ipython",
    "version": 3
   },
   "file_extension": ".py",
   "mimetype": "text/x-python",
   "name": "python",
   "nbconvert_exporter": "python",
   "pygments_lexer": "ipython3",
   "version": "3.6.2"
  }
 },
 "nbformat": 4,
 "nbformat_minor": 2
}
