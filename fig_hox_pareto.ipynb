{
 "cells": [
  {
   "cell_type": "markdown",
   "metadata": {},
   "source": [
    "# Plot the figures for Hox pareto\n",
    "\n",
    "To run this script, you need to download and unzip the data backup of the hox pareto [here](https://mcgill-my.sharepoint.com/personal/adrien_henry_mail_mcgill_ca/_layouts/15/guestaccess.aspx?docid=0f1beb049ce8d4a648261a691f3116cd3&authkey=AUsBUDDWzFpkWDjGIo6n5X4)."
   ]
  },
  {
   "cell_type": "code",
   "execution_count": null,
   "metadata": {
    "collapsed": true
   },
   "outputs": [],
   "source": [
    "%matplotlib notebook\n",
    "import phievo\n",
    "from phievo.AnalysisTools import Simulation,palette#,plotly_graph\n",
    "import shelve,os,pickle\n",
    "import matplotlib.pyplot as plt\n",
    "import matplotlib as mpl\n",
    "from mpl_toolkits.axes_grid1.inset_locator import zoomed_inset_axes\n",
    "from mpl_toolkits.axes_grid1.inset_locator import mark_inset\n",
    "\n",
    "mpl.rc('text', usetex=True)\n",
    "mpl.rcParams['text.latex.preamble'] = [\n",
    "       r'\\usepackage{siunitx}',   # i need upright \\micro symbols, but you need...\n",
    "       r'\\sisetup{detect-all}',   # ...this to force siunitx to actually use your fonts\n",
    "       r'\\usepackage{helvet}',    # set the normal font here\n",
    "       r'\\usepackage{sansmath}',  # load up the sansmath so that math -> helvet\n",
    "       r'\\sansmath'               # <- tricky! -- gotta actually tell tex to use!\n",
    "]  \n",
    "mpl.rcParams['font.size'] =20\n",
    "import numpy as np\n",
    "import random\n",
    "import copy\n",
    "palette.update_default_colormap(\"tab20c\")"
   ]
  },
  {
   "cell_type": "code",
   "execution_count": null,
   "metadata": {
    "collapsed": true
   },
   "outputs": [],
   "source": [
    "choose_seed = \"hox_pareto_complete\"\n",
    "directory = \"example_hox_pareto_complete\""
   ]
  },
  {
   "cell_type": "code",
   "execution_count": null,
   "metadata": {
    "collapsed": true
   },
   "outputs": [],
   "source": [
    "sim = Simulation(directory)\n",
    "seed = sim.seeds[choose_seed]\n",
    "genealogy = sim.get_genealogy(choose_seed)\n",
    "#genealogy.sort_networks(verbose=True)\n",
    "networks = genealogy.load_sort_networks()"
   ]
  },
  {
   "cell_type": "markdown",
   "metadata": {},
   "source": [
    "# Select example networks"
   ]
  },
  {
   "cell_type": "code",
   "execution_count": null,
   "metadata": {
    "collapsed": true
   },
   "outputs": [],
   "source": [
    "net_ind = seed.get_backup_net(16000,43).identifier\n",
    "ancestors = genealogy.search_ancestors(networks[net_ind])\n",
    "def surounding_net(ind,nb=1,step=1):\n",
    "    position = [aa[\"ind\"] for aa in ancestors].index(ind)\n",
    "    if type(nb)==int:\n",
    "        return [ancestors[i][\"ind\"] for i in range(position-nb,position+nb+1,step)]\n",
    "    elif type(nb)==list:\n",
    "        return [ancestors[i][\"ind\"] for i in range(position-nb[0],position+nb[1]+1,step)]\n",
    "index_net = surounding_net(27655,[3,6],step=1)\n",
    "index_net_reduced = [ind for i,ind in enumerate(index_net) if i%3==0]\n",
    "assert len(index_net_reduced)==4\n",
    "assert index_net_reduced[-1]==index_net[-1]\n",
    "print(\"Selected networks: \",index_net)"
   ]
  },
  {
   "cell_type": "markdown",
   "metadata": {},
   "source": [
    "# Plot all the networks in the fitness space"
   ]
  },
  {
   "cell_type": "code",
   "execution_count": null,
   "metadata": {
    "collapsed": true
   },
   "outputs": [],
   "source": [
    "generations = list(range(500,16001,50))\n",
    "col = palette.color_generate(1)[0]\n",
    "col2 = \"#E6550D\"\n",
    "#colors = {i:col for i in generations}\n",
    "gradient = ['#3182BD', '#31A354',0.5,'#31A354',\"#D62728\"]\n",
    "fig = seed.plot_pareto_fronts(generations,gradient=gradient,s=1,xlabel=r\"$-F_1$\",ylabel=r\"$F_2$\",no_popup=True)\n",
    "ax = fig.axes[0]\n",
    "axins = zoomed_inset_axes(ax, 3, loc=1)  # zoom = 6\n",
    "print(len(ax.collections))\n",
    "F1 = []\n",
    "F2 = []\n",
    "F1_red = []\n",
    "F2_red = []\n",
    "for ind in index_net:\n",
    "    F1.append(networks[ind][\"fit\"][0])\n",
    "    F2.append(networks[ind][\"fit\"][1])\n",
    "    if ind in index_net_reduced:\n",
    "        F1_red.append(F1[-1])\n",
    "        F2_red.append(F2[-1])\n",
    "ax.plot(F1,F2,linestyle='-', marker='o',lw=2,color=col2,ms=1)\n",
    "ax.scatter(F1_red,F2_red,color=col2,s=12)\n",
    "ax.set_xlim(-2.4, 0.05)\n",
    "ax.set_ylim(0, 2)\n",
    "#remove axis\n",
    "#ax.axis('off')    \n",
    "# sub region of the original image\n",
    "x1, x2, y1, y2 = -2.2,-2,0.78,1.1\n",
    "for collect in ax.collections:\n",
    "    col = collect._original_facecolor\n",
    "    data = collect.get_offsets()\n",
    "    data = data[np.apply_along_axis(lambda x: x1<x[0]<x2 and y1<x[1]<y2,1,data),:]\n",
    "    if len(data):\n",
    "        axins.scatter(data[:,0],data[:,1],color=col,s=1)\n",
    "axins.plot(F1,F2,linestyle='-', marker='o',lw=2,color=col2,ms=1)\n",
    "axins.scatter(F1_red,F2_red,color=col2,s=12)\n",
    "axins.set_xlim(x1, x2)\n",
    "axins.set_ylim(y1, y2)\n",
    "# fix the number of ticks on the inset axes\n",
    "axins.yaxis.get_major_locator().set_params(nbins=7)\n",
    "axins.xaxis.get_major_locator().set_params(nbins=7)\n",
    "plt.xticks(visible=False)\n",
    "plt.yticks(visible=False)\n",
    "# draw a bbox of the region of the inset axes in the parent axes and\n",
    "# connecting lines between the bbox and the inset axes area\n",
    "mark_inset(ax, axins, loc1=2, loc2=4, fc=\"none\", ec=\"0.5\")\n",
    "ax1 = fig.add_axes([0.91, 0.11, 0.01, 0.77])\n",
    "norm = mpl.colors.Normalize(vmin=min(generations)/1000, vmax=max(generations)/1000)\n",
    "cb1 = mpl.colorbar.ColorbarBase(ax1, cmap=palette.make_colormap(gradient),norm=norm,orientation='vertical')\n",
    "cb1.set_label('Generation/1000')\n",
    "fig.savefig(\"fitness_space.svg\")"
   ]
  },
  {
   "cell_type": "markdown",
   "metadata": {},
   "source": [
    "# Plot network profiles"
   ]
  },
  {
   "cell_type": "code",
   "execution_count": null,
   "metadata": {
    "collapsed": true,
    "scrolled": true
   },
   "outputs": [],
   "source": [
    "def plot_probability_profile(res):\n",
    "    proba = np.array([res[0][i][-1]/np.sum(res[0][i][-1]) for i in res[0].keys()])\n",
    "    proba.shape[1]\n",
    "    \n",
    "    fig = plt.figure()\n",
    "    ax = fig.gca()\n",
    "    ax.set_ylim(0, 1)\n",
    "    for gen in range(proba.shape[1]):\n",
    "        ls =\"--\"\n",
    "        if gen in res[\"outputs\"]+res[\"inputs\"]:\n",
    "            ls = \"-\"\n",
    "        gen_prob = proba[:,gen]\n",
    "        ax.plot(gen_prob,lw=3)\n",
    "    ax.axis(\"off\")\n",
    "    return fig\n",
    "\n",
    "\n",
    "for i,net_ind in enumerate(index_net_reduced):\n",
    "    net = genealogy.get_network_from_identifier(net_ind)\n",
    "    res = sim.run_dynamics(net)\n",
    "    fig_profile=plot_probability_profile(res)\n",
    "    fig_profile.axes[0].axis(\"off\")\n",
    "    fig_profile.savefig(\"network_profile{}.svg\".format(i))      \n",
    "    del fig_profile"
   ]
  },
  {
   "cell_type": "markdown",
   "metadata": {},
   "source": [
    "# Mutation fitness deviation"
   ]
  },
  {
   "cell_type": "markdown",
   "metadata": {},
   "source": [
    "### Generate the perturbations"
   ]
  },
  {
   "cell_type": "code",
   "execution_count": null,
   "metadata": {
    "collapsed": true
   },
   "outputs": [],
   "source": [
    "mutations = [\"random_duplicate()\",\"random_Interaction(\\'TFHill\\')\",\"mutate_Node(\\'TModule\\')\",\"mutate_Node(\\'Species\\')\",\"mutate_Node(\\'TFHill\\')\",\"random_change_output()\",\"remove_Interaction(\\'CorePromoter\\')\",\"remove_Interaction(\\'TFHill\\')\",\"random_gene(\\'TF\\')\"]\n",
    "mutation_effects = {mut:[] for mut in mutations}\n",
    "number_points = 300\n",
    "pop_size = sim.inits.prmt[\"npopulation\"]\n",
    "print_step = max(int(number_points/100),1)"
   ]
  },
  {
   "cell_type": "code",
   "execution_count": null,
   "metadata": {
    "collapsed": true,
    "scrolled": true
   },
   "outputs": [],
   "source": [
    "with shelve.open(os.path.join(seed.root,\"Restart_file\")) as backup_data:\n",
    "    gen_keys = [int(kk) for kk in list(backup_data.dict.keys())]\n",
    "    for count in range(number_points):\n",
    "        gen = random.choice(gen_keys)\n",
    "        pos = random.randint(0,pop_size-1)\n",
    "        network = backup_data[str(gen)][1][pos]\n",
    "        fitness = list(network.fitness)\n",
    "        for mut in mutations:\n",
    "            net = copy.deepcopy(network)\n",
    "            getattr(net,mutations[0][:-2])()\n",
    "            mut_fit =[float(fit) for fit in sim.deriv2.compile_and_integrate(net,sim.inits.prmt,nnetwork=0)]\n",
    "            delta_fit = [mut_fit[i]-fitness[i] for i in [0,1]]\n",
    "            mutation_effects[mut].append(delta_fit)\n",
    "            \n",
    "        if (count%print_step)==0:\n",
    "            print(\"({}/{}) done.\".format(count,number_points),end=\"\\r\")\n",
    "\n",
    "pickle.dump(mutation_effects,open(os.path.join(seed.root,\"mutation_perturbation.pkl\"),\"wb\"))\n",
    "print()\n"
   ]
  },
  {
   "cell_type": "markdown",
   "metadata": {},
   "source": [
    "### Load existing perturbation results"
   ]
  },
  {
   "cell_type": "code",
   "execution_count": null,
   "metadata": {
    "collapsed": true
   },
   "outputs": [],
   "source": [
    "mutation_effects = pickle.load(open(os.path.join(seed.root,\"mutation_perturbation.pkl\"),\"rb\"))"
   ]
  },
  {
   "cell_type": "markdown",
   "metadata": {},
   "source": [
    "### Plot"
   ]
  },
  {
   "cell_type": "code",
   "execution_count": null,
   "metadata": {
    "collapsed": true
   },
   "outputs": [],
   "source": [
    "colors = {mut:col for mut,col in zip(mutation_effects.keys(),palette.color_generate(len(mutation_effects)))}\n",
    "fig = plt.figure()\n",
    "#remove axis\n",
    "#ax.axis('off')\n",
    "ax = fig.gca()\n",
    "for mut,deviations in mutation_effects.items():\n",
    "    xx,yy = zip(*deviations)\n",
    "    ax.scatter(xx,yy,marker =\".\",s=10,color=colors[mut])\n",
    "ax.set_xlabel(r'$-\\Delta F_{1}$')\n",
    "ax.set_ylabel(r'$\\Delta F_{2}$')\n",
    "ax.set_xlim([-1.15,0.3])\n",
    "ax.set_ylim([-0.2,1.25])\n",
    "fig.savefig(\"mutation_effect.svg\",dpi=400)"
   ]
  },
  {
   "cell_type": "code",
   "execution_count": null,
   "metadata": {
    "collapsed": true
   },
   "outputs": [],
   "source": []
  }
 ],
 "metadata": {
  "kernelspec": {
   "display_name": "Python 3",
   "language": "python",
   "name": "python3"
  },
  "language_info": {
   "codemirror_mode": {
    "name": "ipython",
    "version": 3
   },
   "file_extension": ".py",
   "mimetype": "text/x-python",
   "name": "python",
   "nbconvert_exporter": "python",
   "pygments_lexer": "ipython3",
   "version": "3.6.2"
  }
 },
 "nbformat": 4,
 "nbformat_minor": 2
}
